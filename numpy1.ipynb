{
 "cells": [
  {
   "cell_type": "code",
   "execution_count": 7,
   "metadata": {},
   "outputs": [],
   "source": [
    "import numpy as np\n",
    "import pandas as pd"
   ]
  },
  {
   "cell_type": "code",
   "execution_count": 12,
   "metadata": {},
   "outputs": [],
   "source": [
    "x=[3, 5, 7, 2, 8, 10, 11, 65, 72, 81, 99, 100, 150]"
   ]
  },
  {
   "cell_type": "code",
   "execution_count": 47,
   "metadata": {},
   "outputs": [],
   "source": [
    "def roller(x,k):\n",
    "    l=len(x)\n",
    "    val=l-k+1\n",
    "    m=0\n",
    "    n=k\n",
    "    one=[]\n",
    "    for i in range(val):\n",
    "        #print(np.sum(x[m:n])/k)\n",
    "        value=np.sum(x[m:n])/k\n",
    "        m+=1\n",
    "        n+=1\n",
    "        one.append(round(value,3))\n",
    "    return one"
   ]
  },
  {
   "cell_type": "code",
   "execution_count": 50,
   "metadata": {},
   "outputs": [
    {
     "data": {
      "text/plain": [
       "[5.0,\n",
       " 4.667,\n",
       " 5.667,\n",
       " 6.667,\n",
       " 9.667,\n",
       " 28.667,\n",
       " 49.333,\n",
       " 72.667,\n",
       " 84.0,\n",
       " 93.333,\n",
       " 116.333]"
      ]
     },
     "execution_count": 50,
     "metadata": {},
     "output_type": "execute_result"
    }
   ],
   "source": [
    "roller(x, 3)"
   ]
  }
 ],
 "metadata": {
  "kernelspec": {
   "display_name": "Python 3",
   "language": "python",
   "name": "python3"
  },
  "language_info": {
   "codemirror_mode": {
    "name": "ipython",
    "version": 3
   },
   "file_extension": ".py",
   "mimetype": "text/x-python",
   "name": "python",
   "nbconvert_exporter": "python",
   "pygments_lexer": "ipython3",
   "version": "3.8.5"
  }
 },
 "nbformat": 4,
 "nbformat_minor": 4
}
